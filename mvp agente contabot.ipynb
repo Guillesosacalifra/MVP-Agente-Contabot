{
 "cells": [
  {
   "cell_type": "markdown",
   "id": "5fc8a355-be72-4c1f-8f78-fafb00116646",
   "metadata": {},
   "source": [
    "# Agente IA para Procesamiento de PDFs desde Gmail y Análisis con ChatGPT\n"
   ]
  },
  {
   "cell_type": "markdown",
   "id": "70691708-fc93-48cf-b8ff-88b01c36ac3b",
   "metadata": {},
   "source": [
    "## 🔐 Paso 1: Autenticación con Google Drive\n",
    "\n",
    "usando cuenta de servicio https://console.cloud.google.com/iam-admin/serviceaccounts/details/107974642318541520307?project=agente-pepe"
   ]
  },
  {
   "cell_type": "code",
   "execution_count": null,
   "id": "e8eff514-2313-4ad3-90f9-40949c14db94",
   "metadata": {},
   "outputs": [],
   "source": [
    "#!pip install google-api-python-client google-auth google-auth-oauthlib pdfplumber openai pandas tqdm\n",
    "#!pip install python-dotenv"
   ]
  },
  {
   "cell_type": "code",
   "execution_count": 13,
   "id": "0dd1c3a8-d786-41c7-908b-01c264972b8d",
   "metadata": {
    "scrolled": true
   },
   "outputs": [],
   "source": [
    "from google.oauth2 import service_account\n",
    "from googleapiclient.discovery import build\n",
    "import os\n",
    "import io\n",
    "from googleapiclient.http import MediaIoBaseDownload\n",
    "from dotenv import load_dotenv\n",
    "load_dotenv()\n",
    "import openai\n",
    "import json\n",
    "import sys\n",
    "import pdfplumber\n",
    "import pandas as pd\n",
    "from googleapiclient.discovery import build\n",
    "\n",
    "# Ruta al archivo de credenciales (descargado desde Google Cloud Console)\n",
    "SERVICE_ACCOUNT_FILE = os.getenv('SERVICE_ACCOUNT_FILE')\n",
    "if SERVICE_ACCOUNT_FILE is None:\n",
    "    raise ValueError(\"❌ La variable de entorno 'SERVICE_ACCOUNT_FILE' no está definida.\")\n",
    "    \n",
    "SCOPES = ['https://www.googleapis.com/auth/drive.readonly']\n",
    "\n",
    "# Autenticación y creación del servicio de Google Drive\n",
    "credentials = service_account.Credentials.from_service_account_file(\n",
    "    SERVICE_ACCOUNT_FILE, scopes=SCOPES)\n",
    "drive_service = build('drive', 'v3', credentials=credentials)\n"
   ]
  },
  {
   "cell_type": "markdown",
   "id": "111613a1-90bf-4ecc-a99c-222f3d38cb2a",
   "metadata": {},
   "source": [
    "## 📂 Paso 2: Descarga de archivos PDF desde carpeta de Google Drive\n",
    "\n",
    "El mail de tu cuenta de servicio (que aparece dentro del credentials.json) debe tener acceso al menos de lectura a esa carpeta FOLDER_ID."
   ]
  },
  {
   "cell_type": "code",
   "execution_count": 9,
   "id": "aa3212f4-f92c-4a3b-93ad-f9197c532dc8",
   "metadata": {},
   "outputs": [
    {
     "name": "stdout",
     "output_type": "stream",
     "text": [
      "✅ Descargado: factura-prueba-uytech.pdf\n"
     ]
    }
   ],
   "source": [
    "# ID de la carpeta en Google Drive (obtenido desde la URL de la carpeta)\n",
    "FOLDER_ID = os.getenv('FOLDER_ID')\n",
    "CARPETA_LOCAL = 'pdfs_descargados'\n",
    "# Crear carpeta local si no existe\n",
    "os.makedirs(CARPETA_LOCAL, exist_ok=True)\n",
    "\n",
    "def descargar_pdfs(folder_id):\n",
    "    query = f\"'{folder_id}' in parents and mimeType='application/pdf'\"\n",
    "    results = drive_service.files().list(q=query, fields=\"files(id, name)\").execute()\n",
    "    archivos = results.get('files', [])\n",
    "    nuevos = []\n",
    "\n",
    "    for archivo in archivos:\n",
    "        nombre = archivo['name']\n",
    "        file_id = archivo['id']\n",
    "        ruta_local = os.path.join(CARPETA_LOCAL, nombre)\n",
    "\n",
    "        if not os.path.exists(ruta_local):\n",
    "            request = drive_service.files().get_media(fileId=file_id)\n",
    "            fh = io.FileIO(ruta_local, 'wb')\n",
    "            downloader = MediaIoBaseDownload(fh, request)\n",
    "            done = False\n",
    "            while not done:\n",
    "                status, done = downloader.next_chunk()\n",
    "            print(f\"✅ Descargado: {nombre}\")\n",
    "            nuevos.append(nombre)\n",
    "        else:\n",
    "            print(f\"⚠️ Ya existe: {nombre}\")\n",
    "    return nuevos\n",
    "\n",
    "# Ejecutar la descarga y obtener solo los nuevos archivos\n",
    "descargados_nuevos = descargar_pdfs(FOLDER_ID)\n"
   ]
  },
  {
   "cell_type": "markdown",
   "id": "cad5abe6-2c65-4b5a-b9a5-a1de4e1f37cb",
   "metadata": {},
   "source": [
    "## 📄 Paso 3: Extracción de texto desde los PDFs descargados\n",
    "\n",
    "- Usa $\\text{pdfplumber}$, que es excelente para leer texto de PDFs \"normales\".\n",
    "- Abre un archivo PDF y concatena el texto de todas sus páginas.\n",
    "- Muestra los primeros 2000 caracteres del texto extraído para que puedas inspeccionarlo."
   ]
  },
  {
   "cell_type": "code",
   "execution_count": 10,
   "id": "de5f0fc5-cbf8-4411-98b6-76e4f524da58",
   "metadata": {
    "scrolled": true
   },
   "outputs": [
    {
     "name": "stderr",
     "output_type": "stream",
     "text": [
      "CropBox missing from /Page, defaulting to MediaBox\n",
      "CropBox missing from /Page, defaulting to MediaBox\n"
     ]
    },
    {
     "name": "stdout",
     "output_type": "stream",
     "text": [
      "RUT EMISOR: 215438030010\n",
      "e-Ticket\n",
      "SERIE NÚMERO PAGO MONEDA\n",
      "A 12074 Crédito USD\n",
      "RECEPTOR: 801012538\n",
      "UYTECH SRL\n",
      "UYTECH Soluciones IT\n",
      "GLT CASA DE BOLSA S.A.\n",
      "Maldonado 2002, Montevideo\n",
      "Avda. Aviadores del Chaco No. 2050, World Trade Center Torre 4 Piso\n",
      "24107513\n",
      "ASUNCIÓN (PARAGUAY), PARAGUAY\n",
      "FECHA 10/04/2025 VENCIMIENTO 10/05/2025 COTIZACIÓN 43.363\n",
      "CÓDIGO DESCRIPCIÓN UN CANTIDAD UNITARIO DESCUENTO MONTO *\n",
      "WIN_S25_CAL Windows Server 2025 RDS CAL Commercial Perpetual 10,00 211,14 2.111,40 1\n",
      "TOTALES\n",
      "Código de Seguridad ggIEAA Monto no Gravado 2.111,40\n",
      "I.V.A. al día Monto IVA en Suspenso 0,00\n",
      "CAE Nº 90232234960 Monto Neto IVA Tasa Mínima 0,00\n",
      "Serie A Monto Neto IVA Tasa Básica 0,00\n",
      "Rango 12001 al 13000 Importe IVA Tasa Mínima % 0,00 0,00\n",
      "Fecha emisor 01/11/17 Importe IVA Tasa Básica % 0,00 0,00\n",
      "Puede verificar comprobante en: Monto Total 2.111,40\n",
      "z.uy/cfes Redondeo / No Facturable 0,00\n",
      "Total a Pagar U$S 2.111,40\n",
      "Hoja 1/1 Fecha de vencimiento de CAE 03/12/2025\n",
      "ADENDA\n",
      "Notas:\n",
      "* 1.No gravado 2.Tasa mínima 3.Tasa básica 4.Otra tasa 5.Entrega gratuita 6. No facturable 10.Exportación y Asimiladas 11.Impuesto percibido 12.IVA en suspenso\n",
      "================================================================================\n"
     ]
    }
   ],
   "source": [
    "textos_pdf = {}\n",
    "\n",
    "for archivo in descargados_nuevos:\n",
    "    ruta = os.path.join(CARPETA_LOCAL, archivo)\n",
    "    try:\n",
    "        with pdfplumber.open(ruta) as pdf:\n",
    "            paginas = [pagina.extract_text() or '' for pagina in pdf.pages]\n",
    "            textos_pdf[archivo] = \"\\n\".join(paginas)\n",
    "        print(textos_pdf[archivo][:2000])  # Muestra los primeros 1000 caracteres\n",
    "        print(\"=\"*80)\n",
    "    except Exception as e:\n",
    "        print(f\"❌ Error al leer {archivo}: {e}\")"
   ]
  },
  {
   "cell_type": "code",
   "execution_count": 11,
   "id": "5f27db4f-cb58-40ec-800b-a5279920b63e",
   "metadata": {},
   "outputs": [
    {
     "data": {
      "text/plain": [
       "'RUT EMISOR: 215438030010\\ne-Ticket\\nSERIE NÚMERO PAGO MONEDA\\nA 12074 Crédito USD\\nRECEPTOR: 801012538\\nUYTECH SRL\\nUYTECH Soluciones IT\\nGLT CASA DE BOLSA S.A.\\nMaldonado 2002, Montevideo\\nAvda. Aviadores del Chaco No. 2050, World Trade Center Torre 4 Piso\\n24107513\\nASUNCIÓN (PARAGUAY), PARAGUAY\\nFECHA 10/04/2025 VENCIMIENTO 10/05/2025 COTIZACIÓN 43.363\\nCÓDIGO DESCRIPCIÓN UN CANTIDAD UNITARIO DESCUENTO MONTO *\\nWIN_S25_CAL Windows Server 2025 RDS CAL Commercial Perpetual 10,00 211,14 2.111,40 1\\nTOTALES\\nCódigo de Seguridad ggIEAA Monto no Gravado 2.111,40\\nI.V.A. al día Monto IVA en Suspenso 0,00\\nCAE Nº 90232234960 Monto Neto IVA Tasa Mínima 0,00\\nSerie A Monto Neto IVA Tasa Básica 0,00\\nRango 12001 al 13000 Importe IVA Tasa Mínima % 0,00 0,00\\nFecha emisor 01/11/17 Importe IVA Tasa Básica % 0,00 0,00\\nPuede verificar comprobante en: Monto Total 2.111,40\\nz.uy/cfes Redondeo / No Facturable 0,00\\nTotal a Pagar U$S 2.111,40\\nHoja 1/1 Fecha de vencimiento de CAE 03/12/2025\\nADENDA\\nNotas:\\n* 1.No gravado 2.Tasa mínima 3.Tasa básica 4.Otra tasa 5.Entrega gratuita 6. No facturable 10.Exportación y Asimiladas 11.Impuesto percibido 12.IVA en suspenso'"
      ]
     },
     "execution_count": 11,
     "metadata": {},
     "output_type": "execute_result"
    }
   ],
   "source": [
    "textos_pdf[archivo][:1200]"
   ]
  },
  {
   "cell_type": "markdown",
   "id": "e96ec2b0-a972-4ae2-afec-f86f75b7039e",
   "metadata": {},
   "source": [
    "## 🤖 Paso 4: Envío del texto a ChatGPT para análisis estructurado\n",
    "\n",
    "- conexión con GPT-4 Turbo usando openai\n",
    "- envío del texto del PDF\n",
    "- recepción de una respuesta estructurada en formato JSON."
   ]
  },
  {
   "cell_type": "code",
   "execution_count": 15,
   "id": "e708f9aa-6fb5-45ae-9bd2-5cf295b03137",
   "metadata": {
    "scrolled": true
   },
   "outputs": [
    {
     "name": "stdout",
     "output_type": "stream",
     "text": [
      "✅ API Key de OpenAI cargada correctamente.\n",
      "\n",
      "📦 Respuesta estructurada de ChatGPT:\n",
      "\n",
      "[\n",
      "  {\n",
      "    \"fecha\": \"10/04/2025\",\n",
      "    \"proveedor\": \"UYTECH SRL\",\n",
      "    \"ruc_o_cuit\": \"801012538\",\n",
      "    \"monto_total\": \"2.111,40\",\n",
      "    \"tipo\": \"gasto\",\n",
      "    \"porcentaje_impuestos\": \"0\"\n",
      "  }\n",
      "]\n",
      "\n",
      "📊 Consumo de tokens:\n",
      "Tokens de entrada (prompt): 629\n",
      "Tokens de salida (respuesta): 75\n",
      "Tokens totales: 704\n",
      "\n",
      "💵 Costo estimado:\n",
      "Input cost: $0.000377\n",
      "Output cost: $0.000180\n",
      "Total cost: $0.000557\n"
     ]
    }
   ],
   "source": [
    "# Asignar la clave API desde la variable de entorno\n",
    "api_key = os.getenv(\"OPENAI_API_KEY\")\n",
    "\n",
    "# Validar que la API Key exista\n",
    "if not api_key:\n",
    "    print(\"❌ Error: No se encontró la API Key de OpenAI. Revisa tu archivo .env.\")\n",
    "    sys.exit(1)\n",
    "\n",
    "# Configurar OpenAI con la clave encontrada\n",
    "openai.api_key = api_key\n",
    "\n",
    "print(\"✅ API Key de OpenAI cargada correctamente.\")\n",
    "\n",
    "# Prompt de ejemplo y estructura deseada\n",
    "system_prompt = \"Sos un contador experto. Analiza la factura adjunta y extrae: fecha, proveedor, RUC o CUIT, monto total, tipo de gasto o ingreso, porcentaje de impuestos si existe.\"\n",
    "\n",
    "assistant_prompt = (\n",
    "    \"Tu siguiente output devuelve solamente el formato JSON. Sin texto adicional\\n\"\n",
    "    \"Te muestro un ejemplo de tu output:\\n\"\n",
    "    \"[\\n\"\n",
    "    \"  {\\n\"\n",
    "    \"    \\\"fecha\\\": \\\"{{fecha_factura}}\\\",\\n\"\n",
    "    \"    \\\"proveedor\\\": \\\"{{nombre_proveedor}}\\\",\\n\"\n",
    "    \"    \\\"ruc_o_cuit\\\": \\\"{{ruc_o_cuit_proveedor}}\\\",\\n\"\n",
    "    \"    \\\"monto_total\\\": \\\"{{monto_total_factura}}\\\",\\n\"\n",
    "    \"    \\\"tipo\\\": \\\"{{tipo_gasto_o_ingreso}}\\\",\\n\"\n",
    "    \"    \\\"porcentaje_impuestos\\\": \\\"{{porcentaje_impuestos}}\\\"\\n\"\n",
    "    \"  }\\n\"\n",
    "    \"]\"\n",
    ")\n",
    "\n",
    "user_prompt = f\"Adjunto factura. Extrae y organiza la información contable.\\n\\n{texto}\"\n",
    "\n",
    "# Función que envía el texto del PDF a ChatGPT\n",
    "def analizar_con_chatgpt(texto):\n",
    "    response = openai.chat.completions.create(\n",
    "        model=\"gpt-4o-mini\",\n",
    "        messages=[\n",
    "            {\"role\": \"system\", \"content\": system_prompt},\n",
    "            {\"role\": \"assistant\", \"content\": assistant_prompt},\n",
    "            {\"role\": \"user\", \"content\": user_prompt}\n",
    "        ],\n",
    "        temperature=0.2\n",
    "    )\n",
    "    \n",
    "    # Obtener datos\n",
    "    content = response.choices[0].message.content\n",
    "    prompt_tokens = response.usage.prompt_tokens\n",
    "    completion_tokens = response.usage.completion_tokens\n",
    "    total_tokens = response.usage.total_tokens\n",
    "\n",
    "    return content, prompt_tokens, completion_tokens, total_tokens\n",
    "\n",
    "# Enviar el texto extraído del PDF de muestra\n",
    "respuesta_chatgpt, prompt_tokens, completion_tokens, total_tokens = analizar_con_chatgpt(textos_pdf[archivo][:1200])\n",
    "\n",
    "# Calcular el costo (para GPT-4o: $0.0005 input / $0.0015 output por cada 1000 tokens)\n",
    "input_cost = (prompt_tokens / 1000000) * 0.60\n",
    "output_cost = (completion_tokens / 1000000) * 2.40\n",
    "total_cost = input_cost + output_cost\n",
    "\n",
    "# Mostrar resultados\n",
    "print(\"\\n📦 Respuesta estructurada de ChatGPT:\\n\")\n",
    "print(respuesta_chatgpt)\n",
    "\n",
    "print(\"\\n📊 Consumo de tokens:\")\n",
    "print(f\"Tokens de entrada (prompt): {prompt_tokens}\")\n",
    "print(f\"Tokens de salida (respuesta): {completion_tokens}\")\n",
    "print(f\"Tokens totales: {total_tokens}\")\n",
    "\n",
    "print(\"\\n💵 Costo estimado:\")\n",
    "print(f\"Input cost: ${input_cost:.6f}\")\n",
    "print(f\"Output cost: ${output_cost:.6f}\")\n",
    "print(f\"Total cost: ${total_cost:.6f}\")"
   ]
  },
  {
   "cell_type": "code",
   "execution_count": 55,
   "id": "32519310-0eca-4768-bcac-6a5fcb92ec50",
   "metadata": {},
   "outputs": [
    {
     "name": "stdout",
     "output_type": "stream",
     "text": [
      "\n",
      "📝 Ingresá tu pregunta sobre la factura (o escribí 'salir' para terminar):\n"
     ]
    },
    {
     "name": "stdin",
     "output_type": "stream",
     "text": [
      ">  cual fue el gasto de la ultima factura?\n"
     ]
    },
    {
     "name": "stdout",
     "output_type": "stream",
     "text": [
      "\n",
      "📋 Respuesta de ChatGPT:\n",
      "El gasto de la última factura fue de 2.111,40.\n",
      "\n",
      "📊 Consumo de tokens:\n",
      "Tokens de entrada (prompt): 124\n",
      "Tokens de salida (respuesta): 16\n",
      "Tokens totales: 140\n",
      "\n",
      "💵 Costo estimado:\n",
      "Input cost: $0.000074\n",
      "Output cost: $0.000038\n",
      "Total cost: $0.000113\n",
      "\n",
      "📝 Ingresá tu pregunta sobre la factura (o escribí 'salir' para terminar):\n"
     ]
    },
    {
     "name": "stdin",
     "output_type": "stream",
     "text": [
      ">  salir\n"
     ]
    },
    {
     "name": "stdout",
     "output_type": "stream",
     "text": [
      "👋 Cerrando la consulta. ¡Hasta luego!\n"
     ]
    }
   ],
   "source": [
    "def consultar_factura_chat(respuesta_chatgpt):\n",
    "    while True:\n",
    "        print(\"\\n📝 Ingresá tu pregunta sobre la factura (o escribí 'salir' para terminar):\")\n",
    "        pregunta_usuario = input(\"> \")\n",
    "\n",
    "        if pregunta_usuario.lower() == \"salir\":\n",
    "            print(\"👋 Cerrando la consulta. ¡Hasta luego!\")\n",
    "            break\n",
    "\n",
    "        # Hacer consulta a OpenAI\n",
    "        response = openai.chat.completions.create(\n",
    "            model=\"gpt-4o\",\n",
    "            messages=[\n",
    "                {\"role\": \"system\", \"content\": \"Sos un asistente contable. Respondé en forma breve, precisa y usando solamente los datos proporcionados.\"},\n",
    "                {\"role\": \"user\", \"content\": f\"Datos de la factura:\\n{respuesta_chatgpt}\\n\\nPregunta: {pregunta_usuario}\"}\n",
    "            ],\n",
    "            temperature=0\n",
    "        )\n",
    "\n",
    "        # Obtener datos de respuesta\n",
    "        content = response.choices[0].message.content\n",
    "        prompt_tokens = response.usage.prompt_tokens\n",
    "        completion_tokens = response.usage.completion_tokens\n",
    "        total_tokens = response.usage.total_tokens\n",
    "\n",
    "        # Calcular el costo (usando tarifas de GPT-4o Mini)\n",
    "        input_cost = (prompt_tokens / 1_000_000) * 0.60   # 0.60 USD por millón input\n",
    "        output_cost = (completion_tokens / 1_000_000) * 2.40  # 2.40 USD por millón output\n",
    "        total_cost = input_cost + output_cost\n",
    "\n",
    "        # Mostrar resultados\n",
    "        print(\"\\n📋 Respuesta de ChatGPT:\")\n",
    "        print(content)\n",
    "\n",
    "        print(\"\\n📊 Consumo de tokens:\")\n",
    "        print(f\"Tokens de entrada (prompt): {prompt_tokens}\")\n",
    "        print(f\"Tokens de salida (respuesta): {completion_tokens}\")\n",
    "        print(f\"Tokens totales: {total_tokens}\")\n",
    "\n",
    "        print(\"\\n💵 Costo estimado:\")\n",
    "        print(f\"Input cost: ${input_cost:.6f}\")\n",
    "        print(f\"Output cost: ${output_cost:.6f}\")\n",
    "        print(f\"Total cost: ${total_cost:.6f}\")\n",
    "\n",
    "# Llamada principal\n",
    "consultar_factura_chat(respuesta_chatgpt)\n"
   ]
  },
  {
   "cell_type": "markdown",
   "id": "c016f77a-be3f-4fe2-b7b5-2cf5f3c66a4d",
   "metadata": {},
   "source": [
    "## 📊 Paso 5: Exportación a Google Sheets"
   ]
  },
  {
   "cell_type": "code",
   "execution_count": 16,
   "id": "cf10ef37-c343-4211-a749-5dbb9ad44aaf",
   "metadata": {
    "scrolled": true
   },
   "outputs": [
    {
     "name": "stdout",
     "output_type": "stream",
     "text": [
      "✅ Datos exportados correctamente a Google Sheets\n"
     ]
    }
   ],
   "source": [
    "# Cambiar el alcance para incluir acceso a Sheets\n",
    "SCOPES_SHEETS = ['https://www.googleapis.com/auth/spreadsheets']\n",
    "\n",
    "# Reutilizar la credencial de cuenta de servicio\n",
    "sheets_credentials = service_account.Credentials.from_service_account_file(\n",
    "    SERVICE_ACCOUNT_FILE, scopes=SCOPES_SHEETS\n",
    ")\n",
    "sheets_service = build('sheets', 'v4', credentials=sheets_credentials)\n",
    "\n",
    "# ID de tu hoja de cálculo (copiado desde la URL de Google Sheets)\n",
    "SPREADSHEET_ID = os.getenv('SPREADSHEET_ID')\n",
    "SHEET_NAME = os.getenv('SHEET_NAME')\n",
    "\n",
    "# Convertir respuesta JSON de ChatGPT a diccionario\n",
    "datos_json = json.loads(respuesta_chatgpt)\n",
    "\n",
    "# Verificar si datos_json es lista de diccionarios o solo un diccionario\n",
    "if isinstance(datos_json, dict):\n",
    "    datos_json = [datos_json]  # Lo convertimos en una lista de un elemento si era dict suelto\n",
    "\n",
    "# Crear dataframe\n",
    "df = pd.DataFrame(datos_json)\n",
    "\n",
    "# Convertir a lista de listas para la API de Sheets\n",
    "datos_a_escribir = [df.columns.tolist()] + df.values.tolist()\n",
    "\n",
    "# Escribir en la hoja\n",
    "sheets_service.spreadsheets().values().update(\n",
    "    spreadsheetId=SPREADSHEET_ID,\n",
    "    range=f\"{SHEET_NAME}!A1\",\n",
    "    valueInputOption=\"RAW\",\n",
    "    body={\"values\": datos_a_escribir}\n",
    ").execute()\n",
    "\n",
    "print(\"✅ Datos exportados correctamente a Google Sheets\")\n"
   ]
  },
  {
   "cell_type": "markdown",
   "id": "7339f4c4-08a1-4bf0-9b0f-d69d0d262ddf",
   "metadata": {
    "jp-MarkdownHeadingCollapsed": true
   },
   "source": [
    "## 💬 Paso 6: Integración con WhatsApp + ChatGPT para consultas sobre Google Sheets\n",
    "### _pending_"
   ]
  },
  {
   "cell_type": "code",
   "execution_count": null,
   "id": "8440dd67-fe5b-4b02-b8e7-87c38ab59bc4",
   "metadata": {},
   "outputs": [],
   "source": [
    "# Este paso se implementa fuera del notebook como un backend con Flask/FastAPI expuesto vía HTTPS.\n",
    "# Es necesario tener configurada la WhatsApp Cloud API desde Meta Developers.\n",
    "\n",
    "# Flujo básico:\n",
    "# 1. Usuario envía un mensaje por WhatsApp (ej: \"¿Cuánto gasté en abril?\")\n",
    "# 2. El webhook lo recibe y llama a ChatGPT con un prompt armado dinámicamente en base a los datos del Google Sheet.\n",
    "# 3. La respuesta es enviada de nuevo por WhatsApp al usuario.\n",
    "\n",
    "# Requiere:\n",
    "# - Cuenta en Meta Developers y configuración de WhatsApp Cloud API\n",
    "# - Número de prueba o habilitado para producción\n",
    "# - Token de acceso + configuración de Webhook (puede usarse ngrok para pruebas locales)\n",
    "# - Flask + google-api-python-client + openai\n",
    "\n",
    "# Código de ejemplo básico (Flask):\n",
    "from flask import Flask, request\n",
    "import openai\n",
    "import json\n",
    "\n",
    "app = Flask(__name__)\n",
    "openai.api_key = 'TU_API_KEY_OPENAI'\n",
    "\n",
    "@app.route('/webhook', methods=['POST'])\n",
    "def webhook():\n",
    "    mensaje = request.json['entry'][0]['changes'][0]['value']['messages'][0]['text']['body']\n",
    "    # Aquí conectarías con Google Sheets y estructurarías el prompt\n",
    "    prompt = f\"Este es el contenido del mensaje recibido: '{mensaje}'. Buscá la respuesta en mis datos financieros.\"\n",
    "\n",
    "    response = openai.ChatCompletion.create(\n",
    "        model=\"gpt-4-turbo\",\n",
    "        messages=[\n",
    "            {\"role\": \"system\", \"content\": \"Sos un asistente que analiza información financiera en base a hojas de cálculo.\"},\n",
    "            {\"role\": \"user\", \"content\": prompt}\n",
    "        ]\n",
    "    )\n",
    "    respuesta = response[\"choices\"][0][\"message\"][\"content\"]\n",
    "\n",
    "    # Enviar la respuesta de nuevo a WhatsApp vía la API (omitir implementación específica aquí)\n",
    "    print(\"Respuesta:\", respuesta)\n",
    "    return '', 200\n",
    "\n",
    "# Este servidor debe estar desplegado en HTTPS para que WhatsApp lo acepte (ej: ngrok, VPS o cloud)\n"
   ]
  }
 ],
 "metadata": {
  "kernelspec": {
   "display_name": "Python 3 (ipykernel)",
   "language": "python",
   "name": "python3"
  },
  "language_info": {
   "codemirror_mode": {
    "name": "ipython",
    "version": 3
   },
   "file_extension": ".py",
   "mimetype": "text/x-python",
   "name": "python",
   "nbconvert_exporter": "python",
   "pygments_lexer": "ipython3",
   "version": "3.13.3"
  }
 },
 "nbformat": 4,
 "nbformat_minor": 5
}
